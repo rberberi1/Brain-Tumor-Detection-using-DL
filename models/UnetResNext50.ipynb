{
  "nbformat": 4,
  "nbformat_minor": 0,
  "metadata": {
    "colab": {
      "provenance": [],
      "gpuType": "T4"
    },
    "kernelspec": {
      "name": "python3",
      "display_name": "Python 3"
    },
    "language_info": {
      "name": "python"
    },
    "accelerator": "GPU"
  },
  "cells": [
    {
      "cell_type": "code",
      "execution_count": 4,
      "metadata": {
        "colab": {
          "base_uri": "https://localhost:8080/",
          "height": 1000
        },
        "id": "JNQNh8WgVlRm",
        "outputId": "40399a38-744b-4c78-8611-77a79c88e182"
      },
      "outputs": [
        {
          "output_type": "stream",
          "name": "stdout",
          "text": [
            "GPU memory limited to 4GB\n",
            "Drive already mounted at /content/drive; to attempt to forcibly remount, call drive.mount(\"/content/drive\", force_remount=True).\n",
            "Input shape: (1, 64, 64, 64, 3)\n",
            "Target shape: (1, 64, 64, 64, 4)\n",
            "Model output shape: (None, 64, 64, 64, 4)\n"
          ]
        },
        {
          "output_type": "stream",
          "name": "stderr",
          "text": [
            "/usr/local/lib/python3.11/dist-packages/keras/src/trainers/data_adapters/py_dataset_adapter.py:121: UserWarning: Your `PyDataset` class should call `super().__init__(**kwargs)` in its constructor. `**kwargs` can include `workers`, `use_multiprocessing`, `max_queue_size`. Do not pass these arguments to `fit()`, as they will be ignored.\n",
            "  self._warn_if_super_not_called()\n"
          ]
        },
        {
          "output_type": "stream",
          "name": "stdout",
          "text": [
            "Epoch 1/20\n",
            "\u001b[1m50/50\u001b[0m \u001b[32m━━━━━━━━━━━━━━━━━━━━\u001b[0m\u001b[37m\u001b[0m \u001b[1m0s\u001b[0m 2s/step - accuracy: 0.8862 - dice_coef: 0.2212 - iou_score: 0.1975 - loss: 0.5093"
          ]
        },
        {
          "output_type": "stream",
          "name": "stderr",
          "text": [
            "WARNING:absl:You are saving your model as an HDF5 file via `model.save()` or `keras.saving.save_model(model)`. This file format is considered legacy. We recommend using instead the native Keras format, e.g. `model.save('my_model.keras')` or `keras.saving.save_model(model, 'my_model.keras')`. \n"
          ]
        },
        {
          "output_type": "stream",
          "name": "stdout",
          "text": [
            "\b\b\b\b\b\b\b\b\b\b\b\b\b\b\b\b\b\b\b\b\b\b\b\b\b\b\b\b\b\b\b\b\b\b\b\b\b\b\b\b\b\b\b\b\b\b\b\b\b\b\b\b\b\b\b\b\b\b\b\b\b\b\b\b\b\b\b\b\b\b\b\b\b\b\b\b\b\b\b\b\b\b\b\b\b\b\b\b\b\b\b\b\b\b\b\b\b\b\b\b\b\b\b\b\b\b\b\b\b\b\b\r\u001b[1m50/50\u001b[0m \u001b[32m━━━━━━━━━━━━━━━━━━━━\u001b[0m\u001b[37m\u001b[0m \u001b[1m227s\u001b[0m 4s/step - accuracy: 0.8874 - dice_coef: 0.2216 - iou_score: 0.1980 - loss: 0.5059 - val_accuracy: 0.9559 - val_dice_coef: 0.2495 - val_iou_score: 0.2406 - val_loss: 0.2940 - learning_rate: 0.0010\n",
            "Epoch 2/20\n",
            "\u001b[1m50/50\u001b[0m \u001b[32m━━━━━━━━━━━━━━━━━━━━\u001b[0m\u001b[37m\u001b[0m \u001b[1m0s\u001b[0m 570ms/step - accuracy: 0.9625 - dice_coef: 0.2569 - iou_score: 0.2394 - loss: 0.1970"
          ]
        },
        {
          "output_type": "stream",
          "name": "stderr",
          "text": [
            "WARNING:absl:You are saving your model as an HDF5 file via `model.save()` or `keras.saving.save_model(model)`. This file format is considered legacy. We recommend using instead the native Keras format, e.g. `model.save('my_model.keras')` or `keras.saving.save_model(model, 'my_model.keras')`. \n"
          ]
        },
        {
          "output_type": "stream",
          "name": "stdout",
          "text": [
            "\b\b\b\b\b\b\b\b\b\b\b\b\b\b\b\b\b\b\b\b\b\b\b\b\b\b\b\b\b\b\b\b\b\b\b\b\b\b\b\b\b\b\b\b\b\b\b\b\b\b\b\b\b\b\b\b\b\b\b\b\b\b\b\b\b\b\b\b\b\b\b\b\b\b\b\b\b\b\b\b\b\b\b\b\b\b\b\b\b\b\b\b\b\b\b\b\b\b\b\b\b\b\b\b\b\b\b\b\b\b\b\b\b\b\r\u001b[1m50/50\u001b[0m \u001b[32m━━━━━━━━━━━━━━━━━━━━\u001b[0m\u001b[37m\u001b[0m \u001b[1m57s\u001b[0m 1s/step - accuracy: 0.9625 - dice_coef: 0.2570 - iou_score: 0.2395 - loss: 0.1969 - val_accuracy: 0.9559 - val_dice_coef: 0.2606 - val_iou_score: 0.2454 - val_loss: 0.2091 - learning_rate: 0.0010\n",
            "Epoch 3/20\n",
            "\u001b[1m50/50\u001b[0m \u001b[32m━━━━━━━━━━━━━━━━━━━━\u001b[0m\u001b[37m\u001b[0m \u001b[1m0s\u001b[0m 566ms/step - accuracy: 0.9625 - dice_coef: 0.2664 - iou_score: 0.2466 - loss: 0.1659"
          ]
        },
        {
          "output_type": "stream",
          "name": "stderr",
          "text": [
            "WARNING:absl:You are saving your model as an HDF5 file via `model.save()` or `keras.saving.save_model(model)`. This file format is considered legacy. We recommend using instead the native Keras format, e.g. `model.save('my_model.keras')` or `keras.saving.save_model(model, 'my_model.keras')`. \n"
          ]
        },
        {
          "output_type": "stream",
          "name": "stdout",
          "text": [
            "\b\b\b\b\b\b\b\b\b\b\b\b\b\b\b\b\b\b\b\b\b\b\b\b\b\b\b\b\b\b\b\b\b\b\b\b\b\b\b\b\b\b\b\b\b\b\b\b\b\b\b\b\b\b\b\b\b\b\b\b\b\b\b\b\b\b\b\b\b\b\b\b\b\b\b\b\b\b\b\b\b\b\b\b\b\b\b\b\b\b\b\b\b\b\b\b\b\b\b\b\b\b\b\b\b\b\b\b\b\b\b\b\b\b\r\u001b[1m50/50\u001b[0m \u001b[32m━━━━━━━━━━━━━━━━━━━━\u001b[0m\u001b[37m\u001b[0m \u001b[1m56s\u001b[0m 1s/step - accuracy: 0.9625 - dice_coef: 0.2665 - iou_score: 0.2466 - loss: 0.1660 - val_accuracy: 0.9559 - val_dice_coef: 0.2718 - val_iou_score: 0.2471 - val_loss: 0.1763 - learning_rate: 0.0010\n",
            "Epoch 4/20\n",
            "\u001b[1m50/50\u001b[0m \u001b[32m━━━━━━━━━━━━━━━━━━━━\u001b[0m\u001b[37m\u001b[0m \u001b[1m0s\u001b[0m 568ms/step - accuracy: 0.9601 - dice_coef: 0.2744 - iou_score: 0.2508 - loss: 0.1641"
          ]
        },
        {
          "output_type": "stream",
          "name": "stderr",
          "text": [
            "WARNING:absl:You are saving your model as an HDF5 file via `model.save()` or `keras.saving.save_model(model)`. This file format is considered legacy. We recommend using instead the native Keras format, e.g. `model.save('my_model.keras')` or `keras.saving.save_model(model, 'my_model.keras')`. \n"
          ]
        },
        {
          "output_type": "stream",
          "name": "stdout",
          "text": [
            "\b\b\b\b\b\b\b\b\b\b\b\b\b\b\b\b\b\b\b\b\b\b\b\b\b\b\b\b\b\b\b\b\b\b\b\b\b\b\b\b\b\b\b\b\b\b\b\b\b\b\b\b\b\b\b\b\b\b\b\b\b\b\b\b\b\b\b\b\b\b\b\b\b\b\b\b\b\b\b\b\b\b\b\b\b\b\b\b\b\b\b\b\b\b\b\b\b\b\b\b\b\b\b\b\b\b\b\b\b\b\b\b\b\b\r\u001b[1m50/50\u001b[0m \u001b[32m━━━━━━━━━━━━━━━━━━━━\u001b[0m\u001b[37m\u001b[0m \u001b[1m56s\u001b[0m 1s/step - accuracy: 0.9602 - dice_coef: 0.2744 - iou_score: 0.2508 - loss: 0.1640 - val_accuracy: 0.9559 - val_dice_coef: 0.2736 - val_iou_score: 0.2516 - val_loss: 0.1767 - learning_rate: 0.0010\n",
            "Epoch 5/20\n",
            "\u001b[1m50/50\u001b[0m \u001b[32m━━━━━━━━━━━━━━━━━━━━\u001b[0m\u001b[37m\u001b[0m \u001b[1m0s\u001b[0m 590ms/step - accuracy: 0.9616 - dice_coef: 0.2845 - iou_score: 0.2574 - loss: 0.1407"
          ]
        },
        {
          "output_type": "stream",
          "name": "stderr",
          "text": [
            "WARNING:absl:You are saving your model as an HDF5 file via `model.save()` or `keras.saving.save_model(model)`. This file format is considered legacy. We recommend using instead the native Keras format, e.g. `model.save('my_model.keras')` or `keras.saving.save_model(model, 'my_model.keras')`. \n"
          ]
        },
        {
          "output_type": "stream",
          "name": "stdout",
          "text": [
            "\b\b\b\b\b\b\b\b\b\b\b\b\b\b\b\b\b\b\b\b\b\b\b\b\b\b\b\b\b\b\b\b\b\b\b\b\b\b\b\b\b\b\b\b\b\b\b\b\b\b\b\b\b\b\b\b\b\b\b\b\b\b\b\b\b\b\b\b\b\b\b\b\b\b\b\b\b\b\b\b\b\b\b\b\b\b\b\b\b\b\b\b\b\b\b\b\b\b\b\b\b\b\b\b\b\b\b\b\b\b\b\b\b\b\r\u001b[1m50/50\u001b[0m \u001b[32m━━━━━━━━━━━━━━━━━━━━\u001b[0m\u001b[37m\u001b[0m \u001b[1m58s\u001b[0m 1s/step - accuracy: 0.9616 - dice_coef: 0.2845 - iou_score: 0.2574 - loss: 0.1407 - val_accuracy: 0.9559 - val_dice_coef: 0.3001 - val_iou_score: 0.2673 - val_loss: 0.1528 - learning_rate: 0.0010\n",
            "Epoch 6/20\n",
            "\u001b[1m50/50\u001b[0m \u001b[32m━━━━━━━━━━━━━━━━━━━━\u001b[0m\u001b[37m\u001b[0m \u001b[1m0s\u001b[0m 572ms/step - accuracy: 0.9623 - dice_coef: 0.2947 - iou_score: 0.2634 - loss: 0.1362"
          ]
        },
        {
          "output_type": "stream",
          "name": "stderr",
          "text": [
            "WARNING:absl:You are saving your model as an HDF5 file via `model.save()` or `keras.saving.save_model(model)`. This file format is considered legacy. We recommend using instead the native Keras format, e.g. `model.save('my_model.keras')` or `keras.saving.save_model(model, 'my_model.keras')`. \n"
          ]
        },
        {
          "output_type": "stream",
          "name": "stdout",
          "text": [
            "\b\b\b\b\b\b\b\b\b\b\b\b\b\b\b\b\b\b\b\b\b\b\b\b\b\b\b\b\b\b\b\b\b\b\b\b\b\b\b\b\b\b\b\b\b\b\b\b\b\b\b\b\b\b\b\b\b\b\b\b\b\b\b\b\b\b\b\b\b\b\b\b\b\b\b\b\b\b\b\b\b\b\b\b\b\b\b\b\b\b\b\b\b\b\b\b\b\b\b\b\b\b\b\b\b\b\b\b\b\b\b\b\b\b\r\u001b[1m50/50\u001b[0m \u001b[32m━━━━━━━━━━━━━━━━━━━━\u001b[0m\u001b[37m\u001b[0m \u001b[1m56s\u001b[0m 1s/step - accuracy: 0.9623 - dice_coef: 0.2949 - iou_score: 0.2635 - loss: 0.1361 - val_accuracy: 0.9559 - val_dice_coef: 0.3186 - val_iou_score: 0.2753 - val_loss: 0.1353 - learning_rate: 0.0010\n",
            "Epoch 7/20\n",
            "\u001b[1m50/50\u001b[0m \u001b[32m━━━━━━━━━━━━━━━━━━━━\u001b[0m\u001b[37m\u001b[0m \u001b[1m0s\u001b[0m 574ms/step - accuracy: 0.9588 - dice_coef: 0.3199 - iou_score: 0.2780 - loss: 0.1281"
          ]
        },
        {
          "output_type": "stream",
          "name": "stderr",
          "text": [
            "WARNING:absl:You are saving your model as an HDF5 file via `model.save()` or `keras.saving.save_model(model)`. This file format is considered legacy. We recommend using instead the native Keras format, e.g. `model.save('my_model.keras')` or `keras.saving.save_model(model, 'my_model.keras')`. \n"
          ]
        },
        {
          "output_type": "stream",
          "name": "stdout",
          "text": [
            "\b\b\b\b\b\b\b\b\b\b\b\b\b\b\b\b\b\b\b\b\b\b\b\b\b\b\b\b\b\b\b\b\b\b\b\b\b\b\b\b\b\b\b\b\b\b\b\b\b\b\b\b\b\b\b\b\b\b\b\b\b\b\b\b\b\b\b\b\b\b\b\b\b\b\b\b\b\b\b\b\b\b\b\b\b\b\b\b\b\b\b\b\b\b\b\b\b\b\b\b\b\b\b\b\b\b\b\b\b\b\b\b\b\b\r\u001b[1m50/50\u001b[0m \u001b[32m━━━━━━━━━━━━━━━━━━━━\u001b[0m\u001b[37m\u001b[0m \u001b[1m56s\u001b[0m 1s/step - accuracy: 0.9589 - dice_coef: 0.3198 - iou_score: 0.2780 - loss: 0.1280 - val_accuracy: 0.9559 - val_dice_coef: 0.3271 - val_iou_score: 0.2819 - val_loss: 0.1263 - learning_rate: 0.0010\n",
            "Epoch 8/20\n",
            "\u001b[1m50/50\u001b[0m \u001b[32m━━━━━━━━━━━━━━━━━━━━\u001b[0m\u001b[37m\u001b[0m \u001b[1m0s\u001b[0m 536ms/step - accuracy: 0.9589 - dice_coef: 0.3401 - iou_score: 0.2906 - loss: 0.1155"
          ]
        },
        {
          "output_type": "stream",
          "name": "stderr",
          "text": [
            "WARNING:absl:You are saving your model as an HDF5 file via `model.save()` or `keras.saving.save_model(model)`. This file format is considered legacy. We recommend using instead the native Keras format, e.g. `model.save('my_model.keras')` or `keras.saving.save_model(model, 'my_model.keras')`. \n"
          ]
        },
        {
          "output_type": "stream",
          "name": "stdout",
          "text": [
            "\b\b\b\b\b\b\b\b\b\b\b\b\b\b\b\b\b\b\b\b\b\b\b\b\b\b\b\b\b\b\b\b\b\b\b\b\b\b\b\b\b\b\b\b\b\b\b\b\b\b\b\b\b\b\b\b\b\b\b\b\b\b\b\b\b\b\b\b\b\b\b\b\b\b\b\b\b\b\b\b\b\b\b\b\b\b\b\b\b\b\b\b\b\b\b\b\b\b\b\b\b\b\b\b\b\b\b\b\b\b\b\b\b\b\r\u001b[1m50/50\u001b[0m \u001b[32m━━━━━━━━━━━━━━━━━━━━\u001b[0m\u001b[37m\u001b[0m \u001b[1m52s\u001b[0m 1s/step - accuracy: 0.9589 - dice_coef: 0.3399 - iou_score: 0.2905 - loss: 0.1154 - val_accuracy: 0.9559 - val_dice_coef: 0.3276 - val_iou_score: 0.2845 - val_loss: 0.1284 - learning_rate: 0.0010\n",
            "Epoch 9/20\n",
            "\u001b[1m50/50\u001b[0m \u001b[32m━━━━━━━━━━━━━━━━━━━━\u001b[0m\u001b[37m\u001b[0m \u001b[1m0s\u001b[0m 516ms/step - accuracy: 0.9653 - dice_coef: 0.3397 - iou_score: 0.2924 - loss: 0.0959"
          ]
        },
        {
          "output_type": "stream",
          "name": "stderr",
          "text": [
            "WARNING:absl:You are saving your model as an HDF5 file via `model.save()` or `keras.saving.save_model(model)`. This file format is considered legacy. We recommend using instead the native Keras format, e.g. `model.save('my_model.keras')` or `keras.saving.save_model(model, 'my_model.keras')`. \n"
          ]
        },
        {
          "output_type": "stream",
          "name": "stdout",
          "text": [
            "\b\b\b\b\b\b\b\b\b\b\b\b\b\b\b\b\b\b\b\b\b\b\b\b\b\b\b\b\b\b\b\b\b\b\b\b\b\b\b\b\b\b\b\b\b\b\b\b\b\b\b\b\b\b\b\b\b\b\b\b\b\b\b\b\b\b\b\b\b\b\b\b\b\b\b\b\b\b\b\b\b\b\b\b\b\b\b\b\b\b\b\b\b\b\b\b\b\b\b\b\b\b\b\b\b\b\b\b\b\b\b\b\b\b\r\u001b[1m50/50\u001b[0m \u001b[32m━━━━━━━━━━━━━━━━━━━━\u001b[0m\u001b[37m\u001b[0m \u001b[1m52s\u001b[0m 1s/step - accuracy: 0.9652 - dice_coef: 0.3398 - iou_score: 0.2924 - loss: 0.0961 - val_accuracy: 0.9598 - val_dice_coef: 0.3482 - val_iou_score: 0.2967 - val_loss: 0.1154 - learning_rate: 0.0010\n",
            "Epoch 10/20\n",
            "\u001b[1m50/50\u001b[0m \u001b[32m━━━━━━━━━━━━━━━━━━━━\u001b[0m\u001b[37m\u001b[0m \u001b[1m0s\u001b[0m 492ms/step - accuracy: 0.9643 - dice_coef: 0.3541 - iou_score: 0.3011 - loss: 0.1039"
          ]
        },
        {
          "output_type": "stream",
          "name": "stderr",
          "text": [
            "WARNING:absl:You are saving your model as an HDF5 file via `model.save()` or `keras.saving.save_model(model)`. This file format is considered legacy. We recommend using instead the native Keras format, e.g. `model.save('my_model.keras')` or `keras.saving.save_model(model, 'my_model.keras')`. \n"
          ]
        },
        {
          "output_type": "stream",
          "name": "stdout",
          "text": [
            "\b\b\b\b\b\b\b\b\b\b\b\b\b\b\b\b\b\b\b\b\b\b\b\b\b\b\b\b\b\b\b\b\b\b\b\b\b\b\b\b\b\b\b\b\b\b\b\b\b\b\b\b\b\b\b\b\b\b\b\b\b\b\b\b\b\b\b\b\b\b\b\b\b\b\b\b\b\b\b\b\b\b\b\b\b\b\b\b\b\b\b\b\b\b\b\b\b\b\b\b\b\b\b\b\b\b\b\b\b\b\b\b\b\b\r\u001b[1m50/50\u001b[0m \u001b[32m━━━━━━━━━━━━━━━━━━━━\u001b[0m\u001b[37m\u001b[0m \u001b[1m66s\u001b[0m 1s/step - accuracy: 0.9642 - dice_coef: 0.3540 - iou_score: 0.3010 - loss: 0.1039 - val_accuracy: 0.9607 - val_dice_coef: 0.3489 - val_iou_score: 0.2964 - val_loss: 0.1175 - learning_rate: 0.0010\n",
            "Epoch 11/20\n",
            "\u001b[1m50/50\u001b[0m \u001b[32m━━━━━━━━━━━━━━━━━━━━\u001b[0m\u001b[37m\u001b[0m \u001b[1m0s\u001b[0m 484ms/step - accuracy: 0.9646 - dice_coef: 0.3598 - iou_score: 0.3045 - loss: 0.0999"
          ]
        },
        {
          "output_type": "stream",
          "name": "stderr",
          "text": [
            "WARNING:absl:You are saving your model as an HDF5 file via `model.save()` or `keras.saving.save_model(model)`. This file format is considered legacy. We recommend using instead the native Keras format, e.g. `model.save('my_model.keras')` or `keras.saving.save_model(model, 'my_model.keras')`. \n"
          ]
        },
        {
          "output_type": "stream",
          "name": "stdout",
          "text": [
            "\b\b\b\b\b\b\b\b\b\b\b\b\b\b\b\b\b\b\b\b\b\b\b\b\b\b\b\b\b\b\b\b\b\b\b\b\b\b\b\b\b\b\b\b\b\b\b\b\b\b\b\b\b\b\b\b\b\b\b\b\b\b\b\b\b\b\b\b\b\b\b\b\b\b\b\b\b\b\b\b\b\b\b\b\b\b\b\b\b\b\b\b\b\b\b\b\b\b\b\b\b\b\b\b\b\b\b\b\b\b\b\b\b\b\r\u001b[1m50/50\u001b[0m \u001b[32m━━━━━━━━━━━━━━━━━━━━\u001b[0m\u001b[37m\u001b[0m \u001b[1m48s\u001b[0m 973ms/step - accuracy: 0.9647 - dice_coef: 0.3598 - iou_score: 0.3046 - loss: 0.0998 - val_accuracy: 0.9619 - val_dice_coef: 0.3575 - val_iou_score: 0.3049 - val_loss: 0.1169 - learning_rate: 0.0010\n",
            "Epoch 12/20\n",
            "\u001b[1m50/50\u001b[0m \u001b[32m━━━━━━━━━━━━━━━━━━━━\u001b[0m\u001b[37m\u001b[0m \u001b[1m47s\u001b[0m 945ms/step - accuracy: 0.9676 - dice_coef: 0.3722 - iou_score: 0.3135 - loss: 0.0929 - val_accuracy: 0.9638 - val_dice_coef: 0.3444 - val_iou_score: 0.2914 - val_loss: 0.1321 - learning_rate: 0.0010\n",
            "Epoch 13/20\n",
            "\u001b[1m50/50\u001b[0m \u001b[32m━━━━━━━━━━━━━━━━━━━━\u001b[0m\u001b[37m\u001b[0m \u001b[1m0s\u001b[0m 534ms/step - accuracy: 0.9639 - dice_coef: 0.3658 - iou_score: 0.3078 - loss: 0.1072"
          ]
        },
        {
          "output_type": "stream",
          "name": "stderr",
          "text": [
            "WARNING:absl:You are saving your model as an HDF5 file via `model.save()` or `keras.saving.save_model(model)`. This file format is considered legacy. We recommend using instead the native Keras format, e.g. `model.save('my_model.keras')` or `keras.saving.save_model(model, 'my_model.keras')`. \n"
          ]
        },
        {
          "output_type": "stream",
          "name": "stdout",
          "text": [
            "\b\b\b\b\b\b\b\b\b\b\b\b\b\b\b\b\b\b\b\b\b\b\b\b\b\b\b\b\b\b\b\b\b\b\b\b\b\b\b\b\b\b\b\b\b\b\b\b\b\b\b\b\b\b\b\b\b\b\b\b\b\b\b\b\b\b\b\b\b\b\b\b\b\b\b\b\b\b\b\b\b\b\b\b\b\b\b\b\b\b\b\b\b\b\b\b\b\b\b\b\b\b\b\b\b\b\b\b\b\b\b\b\b\b\r\u001b[1m50/50\u001b[0m \u001b[32m━━━━━━━━━━━━━━━━━━━━\u001b[0m\u001b[37m\u001b[0m \u001b[1m68s\u001b[0m 1s/step - accuracy: 0.9640 - dice_coef: 0.3660 - iou_score: 0.3079 - loss: 0.1068 - val_accuracy: 0.9653 - val_dice_coef: 0.3745 - val_iou_score: 0.3158 - val_loss: 0.1039 - learning_rate: 1.0000e-04\n",
            "Epoch 14/20\n",
            "\u001b[1m50/50\u001b[0m \u001b[32m━━━━━━━━━━━━━━━━━━━━\u001b[0m\u001b[37m\u001b[0m \u001b[1m0s\u001b[0m 507ms/step - accuracy: 0.9715 - dice_coef: 0.3901 - iou_score: 0.3268 - loss: 0.0767"
          ]
        },
        {
          "output_type": "stream",
          "name": "stderr",
          "text": [
            "WARNING:absl:You are saving your model as an HDF5 file via `model.save()` or `keras.saving.save_model(model)`. This file format is considered legacy. We recommend using instead the native Keras format, e.g. `model.save('my_model.keras')` or `keras.saving.save_model(model, 'my_model.keras')`. \n"
          ]
        },
        {
          "output_type": "stream",
          "name": "stdout",
          "text": [
            "\b\b\b\b\b\b\b\b\b\b\b\b\b\b\b\b\b\b\b\b\b\b\b\b\b\b\b\b\b\b\b\b\b\b\b\b\b\b\b\b\b\b\b\b\b\b\b\b\b\b\b\b\b\b\b\b\b\b\b\b\b\b\b\b\b\b\b\b\b\b\b\b\b\b\b\b\b\b\b\b\b\b\b\b\b\b\b\b\b\b\b\b\b\b\b\b\b\b\b\b\b\b\b\b\b\b\b\b\b\b\b\b\b\b\r\u001b[1m50/50\u001b[0m \u001b[32m━━━━━━━━━━━━━━━━━━━━\u001b[0m\u001b[37m\u001b[0m \u001b[1m51s\u001b[0m 1s/step - accuracy: 0.9714 - dice_coef: 0.3901 - iou_score: 0.3268 - loss: 0.0768 - val_accuracy: 0.9654 - val_dice_coef: 0.3777 - val_iou_score: 0.3188 - val_loss: 0.1041 - learning_rate: 1.0000e-04\n",
            "Epoch 15/20\n",
            "\u001b[1m50/50\u001b[0m \u001b[32m━━━━━━━━━━━━━━━━━━━━\u001b[0m\u001b[37m\u001b[0m \u001b[1m0s\u001b[0m 494ms/step - accuracy: 0.9717 - dice_coef: 0.3881 - iou_score: 0.3262 - loss: 0.0768"
          ]
        },
        {
          "output_type": "stream",
          "name": "stderr",
          "text": [
            "WARNING:absl:You are saving your model as an HDF5 file via `model.save()` or `keras.saving.save_model(model)`. This file format is considered legacy. We recommend using instead the native Keras format, e.g. `model.save('my_model.keras')` or `keras.saving.save_model(model, 'my_model.keras')`. \n"
          ]
        },
        {
          "output_type": "stream",
          "name": "stdout",
          "text": [
            "\b\b\b\b\b\b\b\b\b\b\b\b\b\b\b\b\b\b\b\b\b\b\b\b\b\b\b\b\b\b\b\b\b\b\b\b\b\b\b\b\b\b\b\b\b\b\b\b\b\b\b\b\b\b\b\b\b\b\b\b\b\b\b\b\b\b\b\b\b\b\b\b\b\b\b\b\b\b\b\b\b\b\b\b\b\b\b\b\b\b\b\b\b\b\b\b\b\b\b\b\b\b\b\b\b\b\b\b\b\b\b\b\b\b\r\u001b[1m50/50\u001b[0m \u001b[32m━━━━━━━━━━━━━━━━━━━━\u001b[0m\u001b[37m\u001b[0m \u001b[1m51s\u001b[0m 1s/step - accuracy: 0.9716 - dice_coef: 0.3882 - iou_score: 0.3262 - loss: 0.0769 - val_accuracy: 0.9656 - val_dice_coef: 0.3794 - val_iou_score: 0.3199 - val_loss: 0.1025 - learning_rate: 1.0000e-04\n",
            "Epoch 16/20\n",
            "\u001b[1m50/50\u001b[0m \u001b[32m━━━━━━━━━━━━━━━━━━━━\u001b[0m\u001b[37m\u001b[0m \u001b[1m0s\u001b[0m 502ms/step - accuracy: 0.9728 - dice_coef: 0.3952 - iou_score: 0.3319 - loss: 0.0736"
          ]
        },
        {
          "output_type": "stream",
          "name": "stderr",
          "text": [
            "WARNING:absl:You are saving your model as an HDF5 file via `model.save()` or `keras.saving.save_model(model)`. This file format is considered legacy. We recommend using instead the native Keras format, e.g. `model.save('my_model.keras')` or `keras.saving.save_model(model, 'my_model.keras')`. \n"
          ]
        },
        {
          "output_type": "stream",
          "name": "stdout",
          "text": [
            "\b\b\b\b\b\b\b\b\b\b\b\b\b\b\b\b\b\b\b\b\b\b\b\b\b\b\b\b\b\b\b\b\b\b\b\b\b\b\b\b\b\b\b\b\b\b\b\b\b\b\b\b\b\b\b\b\b\b\b\b\b\b\b\b\b\b\b\b\b\b\b\b\b\b\b\b\b\b\b\b\b\b\b\b\b\b\b\b\b\b\b\b\b\b\b\b\b\b\b\b\b\b\b\b\b\b\b\b\b\b\b\b\b\b\r\u001b[1m50/50\u001b[0m \u001b[32m━━━━━━━━━━━━━━━━━━━━\u001b[0m\u001b[37m\u001b[0m \u001b[1m49s\u001b[0m 986ms/step - accuracy: 0.9728 - dice_coef: 0.3952 - iou_score: 0.3319 - loss: 0.0737 - val_accuracy: 0.9656 - val_dice_coef: 0.3799 - val_iou_score: 0.3201 - val_loss: 0.1023 - learning_rate: 1.0000e-04\n",
            "Epoch 17/20\n",
            "\u001b[1m50/50\u001b[0m \u001b[32m━━━━━━━━━━━━━━━━━━━━\u001b[0m\u001b[37m\u001b[0m \u001b[1m48s\u001b[0m 973ms/step - accuracy: 0.9724 - dice_coef: 0.3898 - iou_score: 0.3276 - loss: 0.0750 - val_accuracy: 0.9656 - val_dice_coef: 0.3799 - val_iou_score: 0.3202 - val_loss: 0.1030 - learning_rate: 1.0000e-04\n",
            "Epoch 18/20\n",
            "\u001b[1m50/50\u001b[0m \u001b[32m━━━━━━━━━━━━━━━━━━━━\u001b[0m\u001b[37m\u001b[0m \u001b[1m0s\u001b[0m 492ms/step - accuracy: 0.9678 - dice_coef: 0.4007 - iou_score: 0.3338 - loss: 0.0838"
          ]
        },
        {
          "output_type": "stream",
          "name": "stderr",
          "text": [
            "WARNING:absl:You are saving your model as an HDF5 file via `model.save()` or `keras.saving.save_model(model)`. This file format is considered legacy. We recommend using instead the native Keras format, e.g. `model.save('my_model.keras')` or `keras.saving.save_model(model, 'my_model.keras')`. \n"
          ]
        },
        {
          "output_type": "stream",
          "name": "stdout",
          "text": [
            "\b\b\b\b\b\b\b\b\b\b\b\b\b\b\b\b\b\b\b\b\b\b\b\b\b\b\b\b\b\b\b\b\b\b\b\b\b\b\b\b\b\b\b\b\b\b\b\b\b\b\b\b\b\b\b\b\b\b\b\b\b\b\b\b\b\b\b\b\b\b\b\b\b\b\b\b\b\b\b\b\b\b\b\b\b\b\b\b\b\b\b\b\b\b\b\b\b\b\b\b\b\b\b\b\b\b\b\b\b\b\b\b\b\b\r\u001b[1m50/50\u001b[0m \u001b[32m━━━━━━━━━━━━━━━━━━━━\u001b[0m\u001b[37m\u001b[0m \u001b[1m48s\u001b[0m 964ms/step - accuracy: 0.9679 - dice_coef: 0.4006 - iou_score: 0.3338 - loss: 0.0837 - val_accuracy: 0.9656 - val_dice_coef: 0.3806 - val_iou_score: 0.3209 - val_loss: 0.1035 - learning_rate: 1.0000e-04\n",
            "Epoch 19/20\n",
            "\u001b[1m50/50\u001b[0m \u001b[32m━━━━━━━━━━━━━━━━━━━━\u001b[0m\u001b[37m\u001b[0m \u001b[1m0s\u001b[0m 394ms/step - accuracy: 0.9719 - dice_coef: 0.3962 - iou_score: 0.3306 - loss: 0.0727"
          ]
        },
        {
          "output_type": "stream",
          "name": "stderr",
          "text": [
            "WARNING:absl:You are saving your model as an HDF5 file via `model.save()` or `keras.saving.save_model(model)`. This file format is considered legacy. We recommend using instead the native Keras format, e.g. `model.save('my_model.keras')` or `keras.saving.save_model(model, 'my_model.keras')`. \n"
          ]
        },
        {
          "output_type": "stream",
          "name": "stdout",
          "text": [
            "\b\b\b\b\b\b\b\b\b\b\b\b\b\b\b\b\b\b\b\b\b\b\b\b\b\b\b\b\b\b\b\b\b\b\b\b\b\b\b\b\b\b\b\b\b\b\b\b\b\b\b\b\b\b\b\b\b\b\b\b\b\b\b\b\b\b\b\b\b\b\b\b\b\b\b\b\b\b\b\b\b\b\b\b\b\b\b\b\b\b\b\b\b\b\b\b\b\b\b\b\b\b\b\b\b\b\b\b\b\b\b\b\b\b\r\u001b[1m50/50\u001b[0m \u001b[32m━━━━━━━━━━━━━━━━━━━━\u001b[0m\u001b[37m\u001b[0m \u001b[1m40s\u001b[0m 808ms/step - accuracy: 0.9718 - dice_coef: 0.3963 - iou_score: 0.3306 - loss: 0.0727 - val_accuracy: 0.9657 - val_dice_coef: 0.3819 - val_iou_score: 0.3219 - val_loss: 0.1031 - learning_rate: 1.0000e-04\n",
            "Epoch 20/20\n",
            "\u001b[1m50/50\u001b[0m \u001b[32m━━━━━━━━━━━━━━━━━━━━\u001b[0m\u001b[37m\u001b[0m \u001b[1m0s\u001b[0m 454ms/step - accuracy: 0.9686 - dice_coef: 0.3994 - iou_score: 0.3320 - loss: 0.0809"
          ]
        },
        {
          "output_type": "stream",
          "name": "stderr",
          "text": [
            "WARNING:absl:You are saving your model as an HDF5 file via `model.save()` or `keras.saving.save_model(model)`. This file format is considered legacy. We recommend using instead the native Keras format, e.g. `model.save('my_model.keras')` or `keras.saving.save_model(model, 'my_model.keras')`. \n"
          ]
        },
        {
          "output_type": "stream",
          "name": "stdout",
          "text": [
            "\u001b[1m50/50\u001b[0m \u001b[32m━━━━━━━━━━━━━━━━━━━━\u001b[0m\u001b[37m\u001b[0m \u001b[1m41s\u001b[0m 838ms/step - accuracy: 0.9686 - dice_coef: 0.3994 - iou_score: 0.3320 - loss: 0.0808 - val_accuracy: 0.9656 - val_dice_coef: 0.3833 - val_iou_score: 0.3228 - val_loss: 0.1019 - learning_rate: 1.0000e-05\n",
            "\u001b[1m50/50\u001b[0m \u001b[32m━━━━━━━━━━━━━━━━━━━━\u001b[0m\u001b[37m\u001b[0m \u001b[1m19s\u001b[0m 370ms/step - accuracy: 0.9671 - dice_coef: 0.3825 - iou_score: 0.3229 - loss: 0.0994\n"
          ]
        },
        {
          "output_type": "stream",
          "name": "stderr",
          "text": [
            "WARNING:absl:You are saving your model as an HDF5 file via `model.save()` or `keras.saving.save_model(model)`. This file format is considered legacy. We recommend using instead the native Keras format, e.g. `model.save('my_model.keras')` or `keras.saving.save_model(model, 'my_model.keras')`. \n"
          ]
        },
        {
          "output_type": "stream",
          "name": "stdout",
          "text": [
            "Final Validation Metrics:\n",
            "Loss:         0.1019\n",
            "Accuracy:     0.9656\n",
            "Dice Coef:    0.3833\n",
            "IoU Score:    0.3228\n"
          ]
        },
        {
          "output_type": "display_data",
          "data": {
            "text/plain": [
              "<Figure size 1000x500 with 1 Axes>"
            ],
            "image/png": "[encoded data removed]"
          },
          "metadata": {}
        }
      ],
      "source": [
        "# Script: unetresnext50_training.py\n",
        "# Purpose: Train UnetResNext50 model using a data generator on sampled_128\n",
        "# Memory-optimized version\n",
        "\n",
        "import os\n",
        "import numpy as np\n",
        "import matplotlib.pyplot as plt\n",
        "import tensorflow as tf\n",
        "from glob import glob\n",
        "from tensorflow.keras import layers, models\n",
        "from tensorflow.keras.utils import Sequence\n",
        "from tensorflow.keras.applications import ResNet50\n",
        "import gc\n",
        "\n",
        "# Configure GPU memory usage\n",
        "physical_devices = tf.config.list_physical_devices('GPU')\n",
        "if physical_devices:\n",
        "    try:\n",
        "        # Option 1: Limit GPU memory\n",
        "        tf.config.set_logical_device_configuration(\n",
        "            physical_devices[0],\n",
        "            [tf.config.LogicalDeviceConfiguration(memory_limit=4096)]  # Limit to 4GB\n",
        "        )\n",
        "        print(\"GPU memory limited to 4GB\")\n",
        "    except RuntimeError as e:\n",
        "        # Option 2: Allow memory growth\n",
        "        try:\n",
        "            for device in physical_devices:\n",
        "                tf.config.experimental.set_memory_growth(device, True)\n",
        "            print(\"Memory growth enabled\")\n",
        "        except RuntimeError as e:\n",
        "            print(f\"GPU configuration error: {e}\")\n",
        "\n",
        "# -------------------------------\n",
        "# 1. MOUNT GOOGLE DRIVE\n",
        "# -------------------------------\n",
        "from google.colab import drive\n",
        "\n",
        "drive.mount('/content/drive')\n",
        "data_path = \"/content/drive/MyDrive/sampled_128\"\n",
        "\n",
        "# -------------------------------\n",
        "# 2. DATA GENERATOR WITH MEMORY OPTIMIZATION\n",
        "# -------------------------------\n",
        "class VolumeDataGenerator(Sequence):\n",
        "    def __init__(self, image_dir, mask_dir, batch_size=1, shuffle=True, input_shape=(64, 64, 64, 3)):\n",
        "        self.image_paths = sorted(glob(os.path.join(image_dir, '*.npy')))\n",
        "        self.mask_paths = sorted(glob(os.path.join(mask_dir, '*.npy')))\n",
        "        self.batch_size = batch_size\n",
        "        self.shuffle = shuffle\n",
        "        self.input_shape = input_shape  # Downsample input to reduce memory usage\n",
        "        self.on_epoch_end()\n",
        "\n",
        "    def __len__(self):\n",
        "        return int(np.floor(len(self.image_paths) / self.batch_size))\n",
        "\n",
        "    def __getitem__(self, idx):\n",
        "        batch_img_paths = self.image_paths[idx * self.batch_size:(idx + 1) * self.batch_size]\n",
        "        batch_mask_paths = self.mask_paths[idx * self.batch_size:(idx + 1) * self.batch_size]\n",
        "\n",
        "        # Load and downsample input volumes\n",
        "        images = []\n",
        "        masks = []\n",
        "\n",
        "        for img_path, mask_path in zip(batch_img_paths, batch_mask_paths):\n",
        "            # Load images and convert to float32 with proper scaling\n",
        "            img = np.load(img_path).astype(np.float32)\n",
        "            mask = np.load(mask_path).astype(np.float32)\n",
        "\n",
        "            # Downsample if needed\n",
        "            if img.shape[:3] != self.input_shape[:3]:\n",
        "                img = self._downsample_volume(img, self.input_shape[:3])\n",
        "                mask = self._downsample_volume(mask, self.input_shape[:3])\n",
        "\n",
        "            images.append(img)\n",
        "            masks.append(mask)\n",
        "\n",
        "        # Force garbage collection to free memory\n",
        "        gc.collect()\n",
        "\n",
        "        return np.array(images), np.array(masks)\n",
        "\n",
        "    def _downsample_volume(self, volume, target_shape):\n",
        "        \"\"\"Downsample a volume to target shape using simple indexing\"\"\"\n",
        "        curr_shape = volume.shape[:3]\n",
        "\n",
        "        # Calculate sampling factors\n",
        "        factors = [curr_shape[i] / target_shape[i] for i in range(3)]\n",
        "\n",
        "        # Create sampling indices for each dimension\n",
        "        indices = [np.round(np.linspace(0, curr_shape[i]-1, target_shape[i])).astype(int) for i in range(3)]\n",
        "\n",
        "        # Sample the volume\n",
        "        if len(volume.shape) == 4:  # For multi-channel volumes\n",
        "            downsampled = volume[np.ix_(indices[0], indices[1], indices[2], range(volume.shape[3]))]\n",
        "        else:  # For single-channel volumes\n",
        "            downsampled = volume[np.ix_(indices[0], indices[1], indices[2])]\n",
        "\n",
        "        return downsampled\n",
        "\n",
        "    def on_epoch_end(self):\n",
        "        if self.shuffle:\n",
        "            temp = list(zip(self.image_paths, self.mask_paths))\n",
        "            np.random.shuffle(temp)\n",
        "            self.image_paths, self.mask_paths = zip(*temp)\n",
        "\n",
        "# -------------------------------\n",
        "# 3. BUILD MEMORY-EFFICIENT UNET MODEL\n",
        "# -------------------------------\n",
        "def unet_resnext_memory_efficient(input_shape=(64,64,64,3), n_classes=4):\n",
        "    \"\"\"\n",
        "    A memory-efficient version of the 3D UNet with a 2D ResNet50 encoder.\n",
        "    This model processes volumes at a lower resolution and uses fewer filters.\n",
        "    \"\"\"\n",
        "    inputs = layers.Input(shape=input_shape)\n",
        "\n",
        "    # Process slices from the 3D volume with a 2D CNN\n",
        "    # Use a smaller subset of slices to save memory\n",
        "    x = layers.Conv3D(16, 3, activation='relu', padding='same')(inputs)\n",
        "    x = layers.MaxPooling3D(pool_size=(2, 2, 2))(x)  # 32x32x32\n",
        "\n",
        "    # Encoder path\n",
        "    x = layers.Conv3D(32, 3, activation='relu', padding='same')(x)\n",
        "    x = layers.MaxPooling3D(pool_size=(2, 2, 2))(x)  # 16x16x16\n",
        "\n",
        "    x = layers.Conv3D(64, 3, activation='relu', padding='same')(x)\n",
        "    x = layers.MaxPooling3D(pool_size=(2, 2, 2))(x)  # 8x8x8\n",
        "\n",
        "    # Bridge\n",
        "    x = layers.Conv3D(128, 3, activation='relu', padding='same')(x)\n",
        "\n",
        "    # Decoder path\n",
        "    x = layers.Conv3D(64, 3, activation='relu', padding='same')(x)\n",
        "    x = layers.UpSampling3D(size=(2, 2, 2))(x)  # 16x16x16\n",
        "\n",
        "    x = layers.Conv3D(32, 3, activation='relu', padding='same')(x)\n",
        "    x = layers.UpSampling3D(size=(2, 2, 2))(x)  # 32x32x32\n",
        "\n",
        "    x = layers.Conv3D(16, 3, activation='relu', padding='same')(x)\n",
        "    x = layers.UpSampling3D(size=(2, 2, 2))(x)  # 64x64x64\n",
        "\n",
        "    # Final classification layer\n",
        "    outputs = layers.Conv3D(n_classes, 1, activation='softmax')(x)\n",
        "\n",
        "    model = models.Model(inputs, outputs)\n",
        "    return model\n",
        "\n",
        "# -------------------------------\n",
        "# 4. METRICS\n",
        "# -------------------------------\n",
        "def dice_coef(y_true, y_pred, smooth=1e-6):\n",
        "    y_true = tf.cast(y_true, tf.float32)\n",
        "    y_pred = tf.cast(y_pred, tf.float32)\n",
        "    y_true_f = tf.reshape(y_true, [-1, tf.shape(y_true)[-1]])\n",
        "    y_pred_f = tf.reshape(y_pred, [-1, tf.shape(y_pred)[-1]])\n",
        "    intersection = tf.reduce_sum(y_true_f * y_pred_f, axis=0)\n",
        "    union = tf.reduce_sum(y_true_f, axis=0) + tf.reduce_sum(y_pred_f, axis=0)\n",
        "    dice = tf.reduce_mean((2. * intersection + smooth) / (union + smooth))\n",
        "    return dice\n",
        "\n",
        "def iou_score(y_true, y_pred, smooth=1e-6):\n",
        "    y_true = tf.cast(y_true, tf.float32)\n",
        "    y_pred = tf.cast(y_pred, tf.float32)\n",
        "    y_true_f = tf.reshape(y_true, [-1, tf.shape(y_true)[-1]])\n",
        "    y_pred_f = tf.reshape(y_pred, [-1, tf.shape(y_pred)[-1]])\n",
        "    intersection = tf.reduce_sum(y_true_f * y_pred_f, axis=0)\n",
        "    total = tf.reduce_sum(y_true_f + y_pred_f, axis=0)\n",
        "    union = total - intersection\n",
        "    iou = tf.reduce_mean((intersection + smooth) / (union + smooth))\n",
        "    return iou\n",
        "\n",
        "# -------------------------------\n",
        "# 5. TRAINING WITH MEMORY OPTIMIZATIONS\n",
        "# -------------------------------\n",
        "# Use a smaller input size to reduce memory usage\n",
        "INPUT_SHAPE = (64, 64, 64, 3)\n",
        "N_CLASSES = 4\n",
        "\n",
        "train_gen = VolumeDataGenerator(\n",
        "    image_dir=os.path.join(data_path, 'train/images'),\n",
        "    mask_dir=os.path.join(data_path, 'train/masks'),\n",
        "    batch_size=1,\n",
        "    input_shape=INPUT_SHAPE\n",
        ")\n",
        "\n",
        "val_gen = VolumeDataGenerator(\n",
        "    image_dir=os.path.join(data_path, 'val/images'),\n",
        "    mask_dir=os.path.join(data_path, 'val/masks'),\n",
        "    batch_size=1,\n",
        "    input_shape=INPUT_SHAPE\n",
        ")\n",
        "\n",
        "# Check shapes\n",
        "sample_batch = train_gen[0]\n",
        "print(f\"Input shape: {sample_batch[0].shape}\")\n",
        "print(f\"Target shape: {sample_batch[1].shape}\")\n",
        "\n",
        "# Clear the session to free memory before building the model\n",
        "tf.keras.backend.clear_session()\n",
        "gc.collect()\n",
        "\n",
        "# Build a memory-efficient model\n",
        "model = unet_resnext_memory_efficient(input_shape=INPUT_SHAPE, n_classes=N_CLASSES)\n",
        "print(f\"Model output shape: {model.output_shape}\")\n",
        "\n",
        "# Compile with mixed precision for better memory efficiency\n",
        "tf.keras.mixed_precision.set_global_policy('mixed_float16')\n",
        "optimizer = tf.keras.optimizers.Adam(1e-3)\n",
        "optimizer = tf.keras.mixed_precision.LossScaleOptimizer(optimizer)\n",
        "\n",
        "model.compile(\n",
        "    optimizer=optimizer,\n",
        "    loss='categorical_crossentropy',\n",
        "    metrics=['accuracy', dice_coef, iou_score]\n",
        ")\n",
        "\n",
        "# Memory efficient callbacks\n",
        "callbacks = [\n",
        "    tf.keras.callbacks.EarlyStopping(patience=5, restore_best_weights=True),\n",
        "    tf.keras.callbacks.ReduceLROnPlateau(patience=3),\n",
        "    tf.keras.callbacks.ModelCheckpoint(\n",
        "        filepath='/content/drive/MyDrive/model_checkpoint.h5',\n",
        "        save_best_only=True,\n",
        "        monitor='val_dice_coef',\n",
        "        mode='max'\n",
        "    )\n",
        "]\n",
        "\n",
        "    # Train with smaller batches\n",
        "try:\n",
        "    history = model.fit(\n",
        "        train_gen,\n",
        "        validation_data=val_gen,\n",
        "        epochs=20,\n",
        "        callbacks=callbacks\n",
        "    )\n",
        "\n",
        "    # -------------------------------\n",
        "    # 6. FINAL METRICS + COMBINED PLOT\n",
        "    # -------------------------------\n",
        "    final_metrics = model.evaluate(val_gen, verbose=1)\n",
        "    print(f\"Final Validation Metrics:\")\n",
        "    print(f\"Loss:         {final_metrics[0]:.4f}\")\n",
        "    print(f\"Accuracy:     {final_metrics[1]:.4f}\")\n",
        "    print(f\"Dice Coef:    {final_metrics[2]:.4f}\")\n",
        "    print(f\"IoU Score:    {final_metrics[3]:.4f}\")\n",
        "\n",
        "    # Save the trained model\n",
        "    model.save('/content/drive/MyDrive/unet_resnext_model.h5')\n",
        "\n",
        "    # Combined loss + accuracy plot\n",
        "    plt.figure(figsize=(10,5))\n",
        "    plt.plot(history.history['accuracy'], label='Train Accuracy')\n",
        "    plt.plot(history.history['val_accuracy'], label='Val Accuracy')\n",
        "    plt.plot(history.history['loss'], label='Train Loss')\n",
        "    plt.plot(history.history['val_loss'], label='Val Loss')\n",
        "    plt.title('Loss & Accuracy')\n",
        "    plt.xlabel('Epoch')\n",
        "    plt.ylabel('Value')\n",
        "    plt.legend()\n",
        "    plt.grid(True)\n",
        "    plt.savefig('/content/drive/MyDrive/training_history.png')\n",
        "    plt.show()\n",
        "\n",
        "except tf.errors.ResourceExhaustedError:\n",
        "    print(\"Out of memory error encountered. Try further reducing model size or input dimensions.\")\n",
        "\n",
        "    # Save whatever model we have so far\n",
        "    model.save('/content/drive/MyDrive/unet_resnext_partial_model.h5')"
      ]
    }
  ]
}